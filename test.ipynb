{
 "cells": [
  {
   "cell_type": "code",
   "execution_count": 136,
   "metadata": {},
   "outputs": [],
   "source": [
    "from selenium import webdriver\n",
    "from bs4 import BeautifulSoup\n",
    "from lxml import html\n",
    "import requests\n"
   ]
  },
  {
   "cell_type": "code",
   "execution_count": 137,
   "metadata": {},
   "outputs": [],
   "source": [
    "base_url = \"https://www.ajnet.me\"\n",
    "data   =  []\n",
    "\n",
    "def get_html(url):\n",
    "    response = requests.get(url).text\n",
    "    soup = BeautifulSoup(response, 'lxml')\n",
    "    cards_section = soup.find(\"section\", {'id': 'news-feed-container'})\n",
    "    return (getData(cards_section))\n",
    "\n"
   ]
  },
  {
   "cell_type": "code",
   "execution_count": 138,
   "metadata": {},
   "outputs": [],
   "source": [
    "def getData(cards_section):\n",
    "    for card in cards_section:\n",
    "        image_container_div = card.find(\"div\", {\"class\":\"article-card__image-wrap\"})\n",
    "        page_link = card.find(\"a\",{\"class\":\"u-clickable-card__link\"})\n",
    "\n",
    "    image_container = None\n",
    "    if image_container_div is not None:\n",
    "        image_container = image_container_div.find(\"div\",{\"class\":\"responsive-image\"}).find(\"img\")\n",
    "        image_src = None\n",
    "        if image_container is not None:\n",
    "            image_src = image_container.get('src')\n",
    "        # print(f'{base_url+image_src}',\"image src\")\n",
    "        \n",
    "        main_page = None\n",
    "        if page_link is not None:\n",
    "            page_req_link = page_link.get('href')\n",
    "            page_data = requests.get(base_url+page_req_link)\n",
    "            main_page = BeautifulSoup(page_data.content,'lxml')\n",
    "            title = main_page.find(\"h1\")\n",
    "            artcile = main_page.find(\"div\",{\"class\":\"wysiwyg--all-content\"}).find_all(\"p\")\n",
    "            for p in artcile:\n",
    "                print(p.text, \"text\")\n",
    "            print(title, \"title\")\n",
    "\n",
    "\n",
    "\n",
    "    #     a_tag = None\n",
    "    # if tilte is not None:\n",
    "    #     a_tag = tilte.find(\"a\").text.strip()\n",
    "\n",
    "        \n",
    "    x = {\n",
    "                # \"title\": title,\n",
    "                \"image\": base_url+image_src,\n",
    "                \"article\": artcile\n",
    "            }\n",
    "    data.append(x)\n",
    "    return data"
   ]
  },
  {
   "cell_type": "code",
   "execution_count": 139,
   "metadata": {},
   "outputs": [
    {
     "ename": "UnboundLocalError",
     "evalue": "cannot access local variable 'image_src' where it is not associated with a value",
     "output_type": "error",
     "traceback": [
      "\u001b[1;31m---------------------------------------------------------------------------\u001b[0m",
      "\u001b[1;31mUnboundLocalError\u001b[0m                         Traceback (most recent call last)",
      "Cell \u001b[1;32mIn[139], line 1\u001b[0m\n\u001b[1;32m----> 1\u001b[0m \u001b[43mget_html\u001b[49m\u001b[43m(\u001b[49m\u001b[38;5;124;43m\"\u001b[39;49m\u001b[38;5;124;43mhttps://www.ajnet.me/where/arab/palestine/\u001b[39;49m\u001b[38;5;124;43m\"\u001b[39;49m\u001b[43m)\u001b[49m\n",
      "Cell \u001b[1;32mIn[137], line 8\u001b[0m, in \u001b[0;36mget_html\u001b[1;34m(url)\u001b[0m\n\u001b[0;32m      6\u001b[0m soup \u001b[38;5;241m=\u001b[39m BeautifulSoup(response, \u001b[38;5;124m'\u001b[39m\u001b[38;5;124mlxml\u001b[39m\u001b[38;5;124m'\u001b[39m)\n\u001b[0;32m      7\u001b[0m cards_section \u001b[38;5;241m=\u001b[39m soup\u001b[38;5;241m.\u001b[39mfind(\u001b[38;5;124m\"\u001b[39m\u001b[38;5;124msection\u001b[39m\u001b[38;5;124m\"\u001b[39m, {\u001b[38;5;124m'\u001b[39m\u001b[38;5;124mid\u001b[39m\u001b[38;5;124m'\u001b[39m: \u001b[38;5;124m'\u001b[39m\u001b[38;5;124mnews-feed-container\u001b[39m\u001b[38;5;124m'\u001b[39m})\n\u001b[1;32m----> 8\u001b[0m \u001b[38;5;28;01mreturn\u001b[39;00m (\u001b[43mgetData\u001b[49m\u001b[43m(\u001b[49m\u001b[43mcards_section\u001b[49m\u001b[43m)\u001b[49m)\n",
      "Cell \u001b[1;32mIn[138], line 34\u001b[0m, in \u001b[0;36mgetData\u001b[1;34m(cards_section)\u001b[0m\n\u001b[0;32m     23\u001b[0m         \u001b[38;5;28mprint\u001b[39m(title, \u001b[38;5;124m\"\u001b[39m\u001b[38;5;124mtitle\u001b[39m\u001b[38;5;124m\"\u001b[39m)\n\u001b[0;32m     27\u001b[0m \u001b[38;5;66;03m#     a_tag = None\u001b[39;00m\n\u001b[0;32m     28\u001b[0m \u001b[38;5;66;03m# if tilte is not None:\u001b[39;00m\n\u001b[0;32m     29\u001b[0m \u001b[38;5;66;03m#     a_tag = tilte.find(\"a\").text.strip()\u001b[39;00m\n\u001b[0;32m     32\u001b[0m x \u001b[38;5;241m=\u001b[39m {\n\u001b[0;32m     33\u001b[0m             \u001b[38;5;66;03m# \"title\": title,\u001b[39;00m\n\u001b[1;32m---> 34\u001b[0m             \u001b[38;5;124m\"\u001b[39m\u001b[38;5;124mimage\u001b[39m\u001b[38;5;124m\"\u001b[39m: base_url\u001b[38;5;241m+\u001b[39m\u001b[43mimage_src\u001b[49m,\n\u001b[0;32m     35\u001b[0m             \u001b[38;5;124m\"\u001b[39m\u001b[38;5;124marticle\u001b[39m\u001b[38;5;124m\"\u001b[39m: artcile\n\u001b[0;32m     36\u001b[0m         }\n\u001b[0;32m     37\u001b[0m data\u001b[38;5;241m.\u001b[39mappend(x)\n\u001b[0;32m     38\u001b[0m \u001b[38;5;28;01mreturn\u001b[39;00m data\n",
      "\u001b[1;31mUnboundLocalError\u001b[0m: cannot access local variable 'image_src' where it is not associated with a value"
     ]
    }
   ],
   "source": [
    "get_html(\"https://www.ajnet.me/where/arab/palestine/\")"
   ]
  }
 ],
 "metadata": {
  "kernelspec": {
   "display_name": "Python 3",
   "language": "python",
   "name": "python3"
  },
  "language_info": {
   "codemirror_mode": {
    "name": "ipython",
    "version": 3
   },
   "file_extension": ".py",
   "mimetype": "text/x-python",
   "name": "python",
   "nbconvert_exporter": "python",
   "pygments_lexer": "ipython3",
   "version": "3.11.9"
  }
 },
 "nbformat": 4,
 "nbformat_minor": 2
}
